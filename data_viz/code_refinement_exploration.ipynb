{
 "cells": [
  {
   "cell_type": "code",
   "execution_count": 2,
   "id": "118bde69-65df-44a0-93b5-9ca836f40776",
   "metadata": {},
   "outputs": [],
   "source": [
    "import json\n",
    "import matplotlib.pyplot as plt\n",
    "%matplotlib inline"
   ]
  },
  {
   "cell_type": "code",
   "execution_count": 3,
   "id": "241e76fc-72c8-4bbf-b358-0c1d6e1de057",
   "metadata": {},
   "outputs": [],
   "source": [
    "file_path = \"../data/code_refinement/ref-valid.jsonl\""
   ]
  },
  {
   "cell_type": "code",
   "execution_count": 4,
   "id": "af1b86a3-aede-4978-88ce-f673c1dd084d",
   "metadata": {},
   "outputs": [],
   "source": [
    "data = [json.loads(line) for line in open(file_path)]"
   ]
  },
  {
   "cell_type": "code",
   "execution_count": 5,
   "id": "b6d1f3c3-739e-4899-8c6d-6f90f18d4392",
   "metadata": {},
   "outputs": [
    {
     "data": {
      "text/plain": [
       "13103"
      ]
     },
     "execution_count": 5,
     "metadata": {},
     "output_type": "execute_result"
    }
   ],
   "source": [
    "len(data)"
   ]
  },
  {
   "cell_type": "code",
   "execution_count": 6,
   "id": "8d9cca90-b9cd-4c37-beed-3bc732656fef",
   "metadata": {},
   "outputs": [
    {
     "name": "stdout",
     "output_type": "stream",
     "text": [
      "dict_keys(['old_hunk', 'oldf', 'hunk', 'comment', 'ids', 'repo', 'ghid', 'old', 'new', 'lang'])\n"
     ]
    }
   ],
   "source": [
    "print(data[0].keys())"
   ]
  },
  {
   "cell_type": "code",
   "execution_count": 7,
   "id": "6be296f7-b15e-4a04-b445-ef4fa1caa818",
   "metadata": {},
   "outputs": [],
   "source": [
    "# {\n",
    "#     \"old_file\": \"import torch\",  # f1\n",
    "#     \"diff_hunk\": \"@@ -1 +1,2 @@\\n import torch\\n +import torch.nn as nn\",  # f1->f2\n",
    "#     \"comment\": \"I don't think we need to import torch.nn here.\",  # requirements for f2->f3\n",
    "#     \"target\": \"import torch\"  # f3\n",
    "# }"
   ]
  },
  {
   "cell_type": "code",
   "execution_count": 8,
   "id": "b88c0323-bbf7-4d12-829c-c0b5b7d54ca4",
   "metadata": {},
   "outputs": [],
   "source": [
    "# Quality Estimation: input with \"old_file\" and \"diff_hunk\", we need to predict that whether the code change is not good and needs a comment.\n",
    "\n",
    "# Comment Generation: input with \"old_file\" and \"diff_hunk\", we need to generate a comment for the change. An expected comment is as the \"comment\" above.\n",
    "\n",
    "# Code Refinement: input with \"old_file\", \"diff_hunk\", and \"comment\", we need to change the code again according to the review comment. For the above example, as the comment indicated we don't need import torch.nn, we just delete this line of code here."
   ]
  },
  {
   "cell_type": "code",
   "execution_count": 10,
   "id": "d930e39a-a574-474d-ba6b-f8853607a4e7",
   "metadata": {
    "tags": []
   },
   "outputs": [
    {
     "name": "stdout",
     "output_type": "stream",
     "text": [
      ">>> OLD ******************************************\n",
      " \t */\n",
      " \tpublic function exclude_divi_css_from_combine( $exclude_css ) {\n",
      "-\t\tif ( (bool) $this->options->get( 'minify_concatenate_css', 0 ) ) {\n",
      " \t\t\treturn $exclude_css;\n",
      " \t\t}\n",
      ">>> OLD_HUNK ******************************************\n",
      "@@ -172,4 +174,27 @@ public function disable_divi_jquery_body() {\n",
      " \t\t}\n",
      " \n",
      " \t}\n",
      "+\n",
      "+\t/**\n",
      "+\t * Excludes Divi's CSS files from CSS combination\n",
      "+\t *\n",
      "+\t * @since 3.10\n",
      "+\t *\n",
      "+\t * @param array $exclude_css An array of CSS  to be excluded.\n",
      "+\t *\n",
      "+\t * @return array the updated array of paths\n",
      "+\t */\n",
      "+\tpublic function exclude_divi_css_from_combine( $exclude_css ) {\n",
      "+\n",
      "+\t\tif ( (bool) $this->options->get( 'minify_concatenate_css', 0 ) ) {\n",
      ">>> HUNK ******************************************\n",
      "@@ -186,7 +186,7 @@ class Divi implements Subscriber_Interface {\n",
      " \t */\n",
      " \tpublic function exclude_divi_css_from_combine( $exclude_css ) {\n",
      " \n",
      "-\t\tif ( (bool) $this->options->get( 'minify_concatenate_css', 0 ) ) {\n",
      "+\t\tif ( ! (bool) $this->options->get( 'minify_concatenate_css', 0 ) ) {\n",
      " \t\t\treturn $exclude_css;\n",
      " \t\t}\n",
      " \n",
      "\n",
      ">>> COMMENT ******************************************\n",
      "```suggestion if ( ! (bool) $this->options->get( 'minify_concatenate_css', 0 ) ) { ``` We should bail-out if the option is not enabled\n",
      ">>> NEW ******************************************\n",
      " \t */\n",
      " \tpublic function exclude_divi_css_from_combine( $exclude_css ) {\n",
      "+\t\tif ( ! (bool) $this->options->get( 'minify_concatenate_css', 0 ) ) {\n",
      " \t\t\treturn $exclude_css;\n",
      " \t\t}\n"
     ]
    }
   ],
   "source": [
    "# i = 40\n",
    "i = 45\n",
    "# print('>>> OLDF ******************************************')\n",
    "# print(data[i]['oldf'])\n",
    "print('>>> OLD ******************************************')\n",
    "print(data[i]['old'])\n",
    "print('>>> OLD_HUNK ******************************************')\n",
    "print(data[i]['old_hunk'])\n",
    "print('>>> HUNK ******************************************')\n",
    "print(data[i]['hunk'])\n",
    "print('>>> COMMENT ******************************************')\n",
    "print(data[i]['comment'])\n",
    "print('>>> NEW ******************************************')\n",
    "print(data[i]['new'])\n",
    "# print(data[0]['id'])\n",
    "# print(data[0]['proj'])\n",
    "# print(data[0]['lang'])"
   ]
  },
  {
   "cell_type": "raw",
   "id": "c92c8ef8-5b06-4600-b4f3-7e193ed3c79d",
   "metadata": {},
   "source": [
    "- olf: old file\n",
    "- old_hunk: changes on the old file before the comment being done\n",
    "- comment done on old_hunk\n",
    "- Hunk: difference after the comment (hunk = old+new)\n",
    "- old: removed lines after comment\n",
    "- new: inserted lines after comment"
   ]
  },
  {
   "cell_type": "code",
   "execution_count": 35,
   "id": "ea067c9d-56c8-446f-850c-71351a763af3",
   "metadata": {},
   "outputs": [],
   "source": [
    "# print(data[0]['patch'])"
   ]
  },
  {
   "cell_type": "code",
   "execution_count": 75,
   "id": "ec6eb8ac-8cdc-45ba-ba3a-9fca43b1d3d0",
   "metadata": {},
   "outputs": [
    {
     "data": {
      "text/plain": [
       "294"
      ]
     },
     "execution_count": 75,
     "metadata": {},
     "output_type": "execute_result"
    }
   ],
   "source": [
    "len(data[1]['msg'])"
   ]
  },
  {
   "cell_type": "code",
   "execution_count": 31,
   "id": "d23f003b-951b-43f5-b32c-6af15731605a",
   "metadata": {
    "scrolled": true,
    "tags": []
   },
   "outputs": [],
   "source": [
    "# print(data[0]['oldf'])"
   ]
  },
  {
   "cell_type": "code",
   "execution_count": 93,
   "id": "b9310ca3-1fde-4650-ae63-30bd05a15bdd",
   "metadata": {},
   "outputs": [],
   "source": [
    "comment_lens = [len(d['msg']) for d in data]\n",
    "comment_lens.sort()"
   ]
  },
  {
   "cell_type": "code",
   "execution_count": 104,
   "id": "4e8157f2-bad3-4137-8bf6-4de610a2e4ad",
   "metadata": {},
   "outputs": [],
   "source": [
    "patch_lens = [len(d['patch']) for d in data]\n",
    "patch_lens.sort()"
   ]
  },
  {
   "cell_type": "code",
   "execution_count": null,
   "id": "e122b8ec-9685-4b6f-bd37-7bd9e92aafa8",
   "metadata": {},
   "outputs": [],
   "source": []
  },
  {
   "cell_type": "code",
   "execution_count": 111,
   "id": "f1e30ec1-d1bf-48fd-8d2b-a204a92bd7fb",
   "metadata": {},
   "outputs": [],
   "source": [
    "def plot_histogram(data, title):\n",
    "    plt.rcParams.update({'figure.figsize':(7,5), 'figure.dpi':100})\n",
    "    x = np.array(data)\n",
    "    plt.hist(x, bins=50)\n",
    "    plt.gca().set(title=title, label='Frequency');"
   ]
  },
  {
   "cell_type": "code",
   "execution_count": 112,
   "id": "6e8272d5-fe58-4487-838c-e5d290535e2e",
   "metadata": {},
   "outputs": [
    {
     "data": {
      "image/png": "[encoded data removed]",
      "text/plain": [
       "<Figure size 700x500 with 1 Axes>"
      ]
     },
     "metadata": {
      "needs_background": "light"
     },
     "output_type": "display_data"
    }
   ],
   "source": [
    "plot_histogram(comment_lens, 'Review comments lengths frequency Histogram')"
   ]
  },
  {
   "cell_type": "code",
   "execution_count": 116,
   "id": "ca07e504-ca76-4e23-a95f-a886d2b4ce24",
   "metadata": {},
   "outputs": [
    {
     "data": {
      "image/png": "[encoded data removed]",
      "text/plain": [
       "<Figure size 700x500 with 1 Axes>"
      ]
     },
     "metadata": {
      "needs_background": "light"
     },
     "output_type": "display_data"
    }
   ],
   "source": [
    "plot_histogram(patch_lens[:-10], 'Patchs lengths frequency Histogram')"
   ]
  },
  {
   "cell_type": "code",
   "execution_count": null,
   "id": "708f5507-1e39-4bb6-8a91-3d12eca408fe",
   "metadata": {},
   "outputs": [],
   "source": []
  },
  {
   "cell_type": "code",
   "execution_count": 125,
   "id": "d1f24792-9e95-4e91-8344-064bd9d6a2fc",
   "metadata": {},
   "outputs": [
    {
     "data": {
      "text/plain": [
       "6260"
      ]
     },
     "execution_count": 125,
     "metadata": {},
     "output_type": "execute_result"
    }
   ],
   "source": [
    "sum([i<=500 for i in patch_lens])"
   ]
  },
  {
   "cell_type": "code",
   "execution_count": 126,
   "id": "57a79c3a-9ba9-42f5-ae5e-c39780a90fd8",
   "metadata": {},
   "outputs": [
    {
     "data": {
      "text/plain": [
       "10169"
      ]
     },
     "execution_count": 126,
     "metadata": {},
     "output_type": "execute_result"
    }
   ],
   "source": [
    "len(patch_lens)"
   ]
  },
  {
   "cell_type": "code",
   "execution_count": 136,
   "id": "af246647-6af5-4e9e-865d-b14fea412bd6",
   "metadata": {},
   "outputs": [
    {
     "data": {
      "text/plain": [
       "2017"
      ]
     },
     "execution_count": 136,
     "metadata": {},
     "output_type": "execute_result"
    }
   ],
   "source": [
    "patch_lens[-10]"
   ]
  },
  {
   "cell_type": "code",
   "execution_count": 137,
   "id": "d9289e30-8c78-49e0-ae49-ef47cb55566a",
   "metadata": {},
   "outputs": [],
   "source": [
    "x = None\n",
    "y = None\n",
    "for d in data:\n",
    "    if len(d['patch']) == patch_lens[-10]:\n",
    "        x = d['patch']\n",
    "        y = d['msg']\n",
    "        break"
   ]
  },
  {
   "cell_type": "code",
   "execution_count": 138,
   "id": "e711bbea-8ae4-4893-b6e9-9d6763f89e88",
   "metadata": {},
   "outputs": [
    {
     "data": {
      "text/plain": [
       "\"@@ -441,10 +441,15 @@ func NewConfig(dc *dynamicconfig.Collection, numberOfShards int32, isAdvancedVis\\n \\t\\tESIndexMaxResultWindow:            dc.GetIntProperty(dynamicconfig.FrontendESIndexMaxResultWindow, 10000),\\n \\t\\tIndexerConcurrency:                dc.GetIntProperty(dynamicconfig.WorkerIndexerConcurrency, 100),\\n \\t\\tESProcessorNumOfWorkers:           dc.GetIntProperty(dynamicconfig.WorkerESProcessorNumOfWorkers, 1),\\n-\\t\\tESProcessorBulkActions:            dc.GetIntProperty(dynamicconfig.WorkerESProcessorBulkActions, 1000),\\n-\\t\\tESProcessorBulkSize:               dc.GetIntProperty(dynamicconfig.WorkerESProcessorBulkSize, 2<<24), // 16MB\\n-\\t\\tESProcessorFlushInterval:          dc.GetDurationProperty(dynamicconfig.WorkerESProcessorFlushInterval, 1*time.Second),\\n-\\t\\tESProcessorAckTimeout:             dc.GetDurationProperty(dynamicconfig.WorkerESProcessorAckTimeout, 1*time.Minute),\\n+\\t\\t// Should be not greater than NumberOfShards(512)/NumberOfHistoryNodes(4) * VisibilityTaskWorkerCount(10) divided by workflow distribution factor (2 at least).\\n+\\t\\t// Otherwise, visibility queue processors won't be able to fill up bulk with documents and bulk will flush due to interval, not number of actions.\\n+\\t\\tESProcessorBulkActions: dc.GetIntProperty(dynamicconfig.WorkerESProcessorBulkActions, 100),\\n+\\t\\t// 16MB - just a sanity check. With ES document size ~1Kb it should never be reached.\\n+\\t\\tESProcessorBulkSize: dc.GetIntProperty(dynamicconfig.WorkerESProcessorBulkSize, 16*1024*1024),\\n+\\t\\t// Under high load bulk processor should flush due to number of BulkActions reached.\\n+\\t\\t// Although, under small load it would never be the case and bulk processor will flush every this interval.\\n+\\t\\tESProcessorFlushInterval: dc.GetDurationProperty(dynamicconfig.WorkerESProcessorFlushInterval, 200*time.Millisecond),\\n+\\t\\tESProcessorAckTimeout:    dc.GetDurationProperty(dynamicconfig.WorkerESProcessorAckTimeout, 1*time.Minute),\\n \\n \\t\\tEnableCrossNamespaceCommands: dc.GetBoolProperty(dynamicconfig.EnableCrossNamespaceCommands, true),\\n \\t}\""
      ]
     },
     "execution_count": 138,
     "metadata": {},
     "output_type": "execute_result"
    }
   ],
   "source": [
    "x"
   ]
  },
  {
   "cell_type": "code",
   "execution_count": null,
   "id": "f1dcc6a4-8df7-4a87-8b40-8e4cfaed073e",
   "metadata": {},
   "outputs": [],
   "source": []
  },
  {
   "cell_type": "code",
   "execution_count": null,
   "id": "cd63476c-b891-43d1-814d-890b1863d23e",
   "metadata": {},
   "outputs": [],
   "source": []
  },
  {
   "cell_type": "code",
   "execution_count": 12,
   "id": "1c2ab244-974a-4a1f-8e0b-b7f0c083d3a9",
   "metadata": {},
   "outputs": [
    {
     "name": "stdout",
     "output_type": "stream",
     "text": [
      "{'.cs', 'cpp', 'py', 'js', 'php', 'go', 'rb', 'c', 'java'}\n"
     ]
    }
   ],
   "source": [
    "langs = set()\n",
    "for d in data:\n",
    "    langs.add(d['lang'])\n",
    "print(langs)"
   ]
  },
  {
   "cell_type": "code",
   "execution_count": null,
   "id": "3a4def54-ee6c-4c82-8e5f-98f643db04f9",
   "metadata": {},
   "outputs": [],
   "source": []
  }
 ],
 "metadata": {
  "kernelspec": {
   "display_name": "Python 3",
   "language": "python",
   "name": "python3"
  },
  "language_info": {
   "codemirror_mode": {
    "name": "ipython",
    "version": 3
   },
   "file_extension": ".py",
   "mimetype": "text/x-python",
   "name": "python",
   "nbconvert_exporter": "python",
   "pygments_lexer": "ipython3",
   "version": "3.8.10"
  }
 },
 "nbformat": 4,
 "nbformat_minor": 5
}
